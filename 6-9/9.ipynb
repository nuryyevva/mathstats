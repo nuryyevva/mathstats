{
 "cells": [
  {
   "cell_type": "code",
   "execution_count": 50,
   "id": "d5b23e38",
   "metadata": {},
   "outputs": [],
   "source": [
    "import numpy as np\n",
    "from scipy.stats import chi2\n",
    "from scipy.stats import norm\n",
    "import matplotlib.pyplot as plt\n",
    "import scipy.integrate as integrate\n",
    "import scipy.special as special\n",
    "from scipy.stats import norm\n",
    "from scipy.optimize import minimize\n",
    "from tqdm.notebook import tqdm\n",
    "from statsmodels.distributions.empirical_distribution import ECDF\n",
    "from scipy import stats\n",
    "from sklearn.utils import resample"
   ]
  },
  {
   "cell_type": "markdown",
   "id": "da6a1ba5",
   "metadata": {},
   "source": [
    "# Пункт а)"
   ]
  },
  {
   "cell_type": "code",
   "execution_count": 51,
   "id": "62544636",
   "metadata": {},
   "outputs": [
    {
     "data": {
      "text/plain": [
       "array([0, 1, 2, 3, 4, 5, 6, 7, 8, 9])"
      ]
     },
     "execution_count": 51,
     "metadata": {},
     "output_type": "execute_result"
    }
   ],
   "source": [
    "arr = np.array([5, 8, 6, 12, 14, 18, 11, 6, 13, 7])\n",
    "n = np.sum(arr)\n",
    "values = np.array([i for i in range(10)])\n",
    "values"
   ]
  },
  {
   "cell_type": "code",
   "execution_count": 52,
   "id": "2a09e7cd",
   "metadata": {},
   "outputs": [],
   "source": [
    "def prefix_sum(x):\n",
    "    for i in range(1, 10):\n",
    "        x[i] += x[i-1]\n",
    "    return x"
   ]
  },
  {
   "cell_type": "code",
   "execution_count": 53,
   "id": "531b6b42",
   "metadata": {},
   "outputs": [
    {
     "name": "stdout",
     "output_type": "stream",
     "text": [
      "delta = 1.4000000000000001\n",
      "p-value = 0.03348\n"
     ]
    },
    {
     "data": {
      "image/png": "[encoded data removed]",
      "text/plain": [
       "<Figure size 640x480 with 1 Axes>"
      ]
     },
     "metadata": {},
     "output_type": "display_data"
    }
   ],
   "source": [
    "y_uniform = values/10\n",
    "y_prefix = prefix_sum(arr / 100)\n",
    "\n",
    "plt.axis([0, 9, 0, 1])\n",
    "plt.ylabel('F(x)')\n",
    "plt.xlabel('x')\n",
    "\n",
    "plt.plot(values, y_uniform, color='red')\n",
    "plt.step(values, y_prefix, where='post', color='blue')\n",
    "plt.grid(which='major', axis='both', color='pink')\n",
    "    \n",
    "arr_delta1 = np.abs(y_uniform - y_prefix)\n",
    "arr_delta2 = np.zeros_like(arr_delta1)\n",
    "arr_delta2[1:] = abs(y_uniform[1:10] - y_prefix[0:9])\n",
    "sup1 = max(arr_delta1)\n",
    "sup2 = max(arr_delta2)\n",
    "sup = max(sup1, sup2)\n",
    "print(\"delta =\", np.sqrt(n) * sup)\n",
    "\n",
    "print(\"p-value = 0.03348\")  # из таблицы"
   ]
  },
  {
   "cell_type": "markdown",
   "id": "db53de5a",
   "metadata": {},
   "source": [
    "# Пункт b)"
   ]
  },
  {
   "cell_type": "code",
   "execution_count": 54,
   "id": "2d054a55",
   "metadata": {},
   "outputs": [],
   "source": [
    "intervals = [(0, 1), (1, 2), (2, 3), (3, 4), (4, 5), (5, 6), (6, 7), (7, 8), (8, 9), (9, 10)]\n",
    "counts = [5, 8, 6, 12, 14, 18, 11, 6, 13, 7]\n",
    "data = []\n",
    "for (start, end), count in zip(intervals, counts):\n",
    "    midpoint = (start + end) / 2\n",
    "    data.extend([midpoint] * count)\n",
    "initial_params = [np.mean(data), np.std(data)]"
   ]
  },
  {
   "cell_type": "code",
   "execution_count": 55,
   "id": "546e79cd",
   "metadata": {},
   "outputs": [],
   "source": [
    "def likelihood(params):\n",
    "    mu, sigma = params[0], params[1]\n",
    "    if sigma <= 0:\n",
    "        return np.inf\n",
    "    return -np.sum(norm.logpdf(data, mu, sigma))"
   ]
  },
  {
   "cell_type": "code",
   "execution_count": 56,
   "id": "ad262ee4",
   "metadata": {},
   "outputs": [
    {
     "name": "stdout",
     "output_type": "stream",
     "text": [
      "Myu: 5.27\n",
      "Sigma: 2.505414137423193\n"
     ]
    }
   ],
   "source": [
    "result = minimize(likelihood, initial_params, method='L-BFGS-B', bounds=[(-np.inf, np.inf), (0, np.inf)])\n",
    "mu, sigma = result.x\n",
    "print(f'Myu: {mu}')\n",
    "print(f'Sigma: {sigma}')"
   ]
  },
  {
   "cell_type": "code",
   "execution_count": 57,
   "id": "dfb05657",
   "metadata": {},
   "outputs": [
    {
     "name": "stdout",
     "output_type": "stream",
     "text": [
      "P_i * n: [ 4.41616821  5.17552151  8.65410163 12.36537988 15.09787008 15.75250246\n",
      " 14.04461048 10.7002627   6.96626253  6.82732051]\n"
     ]
    }
   ],
   "source": [
    "def f(x):\n",
    "    global sigma, mu\n",
    "    return norm.pdf(x, mu, sigma)\n",
    "\n",
    "integral_intervals = [-np.inf, 1, 2, 3, 4, 5, 6, 7, 8, 9, np.inf]\n",
    "p = np.array([integrate.quad(f, integral_intervals[i-1], integral_intervals[i])[0] for i in range(1, 11)])\n",
    "print(f\"P_i * n: {p*100}\")"
   ]
  },
  {
   "cell_type": "code",
   "execution_count": 58,
   "id": "172a0348",
   "metadata": {},
   "outputs": [
    {
     "name": "stdout",
     "output_type": "stream",
     "text": [
      "delta~ = 10.798973140500925\n"
     ]
    }
   ],
   "source": [
    "delta = np.sum((counts - p * n) ** 2 / (p * n))\n",
    "print(\"delta~ =\", delta)"
   ]
  },
  {
   "cell_type": "code",
   "execution_count": 59,
   "id": "a5cf153b",
   "metadata": {},
   "outputs": [
    {
     "name": "stdout",
     "output_type": "stream",
     "text": [
      "p-value = 0.14763126040115765\n"
     ]
    }
   ],
   "source": [
    "def f(x):\n",
    "    return chi2.pdf(x, 7)\n",
    "\n",
    "answer = integrate.quad(f, delta, np.inf)[0]\n",
    "print(f\"p-value = {answer}\")"
   ]
  },
  {
   "cell_type": "markdown",
   "id": "dfde7352",
   "metadata": {},
   "source": [
    "# Bootstrap"
   ]
  },
  {
   "cell_type": "code",
   "execution_count": 60,
   "id": "f9df6aac",
   "metadata": {},
   "outputs": [],
   "source": [
    "data = np.array(([0] * 5 + [1] * 8 + [2] * 6 + [3] * 12 + [4] * 14 + [5] * 18 + [6] * 11 + [7] * 6 + [8] * 13 + [9] * 7))\n",
    "N = len(data)"
   ]
  },
  {
   "cell_type": "code",
   "execution_count": 61,
   "id": "6387e311",
   "metadata": {},
   "outputs": [],
   "source": [
    "# ~F(x) - emperical fuction\n",
    "counts = np.array([np.count_nonzero(data == i) for i in range(10)])\n",
    "probabilities = counts / counts.sum()\n",
    "F_ = np.cumsum(probabilities)"
   ]
  },
  {
   "cell_type": "code",
   "execution_count": 62,
   "id": "9d74a778",
   "metadata": {},
   "outputs": [],
   "source": [
    "values = [0, 1, 2, 3, 4, 5, 6, 7, 8, 9]\n",
    "F = norm.cdf(values, mu, sigma)"
   ]
  },
  {
   "cell_type": "code",
   "execution_count": 63,
   "id": "02e7b0bc",
   "metadata": {},
   "outputs": [
    {
     "name": "stdout",
     "output_type": "stream",
     "text": [
      "Delta = 3.2388828767538627\n"
     ]
    }
   ],
   "source": [
    "arr_delta1 = np.abs(F_ - F)\n",
    "arr_delta2 = np.zeros_like(arr_delta1)\n",
    "arr_delta2[1:] = abs(F_[1:10] - F[0:9])\n",
    "sup1 = max(arr_delta1)\n",
    "sup2 = max(arr_delta2)\n",
    "sup = max(sup1, sup2)\n",
    "\n",
    "delta = np.sqrt(n) * sup\n",
    "print(\"Delta =\", np.sqrt(n) * sup)"
   ]
  },
  {
   "cell_type": "code",
   "execution_count": 64,
   "id": "abdc45ed",
   "metadata": {},
   "outputs": [
    {
     "name": "stdout",
     "output_type": "stream",
     "text": [
      "p-value = 0.49928\n"
     ]
    }
   ],
   "source": [
    "# Bootstrap\n",
    "B = 50000\n",
    "bootstrap_arr = []\n",
    "N_ = len(data)\n",
    "for _ in range(B):\n",
    "    sample = resample(data, replace = True)\n",
    "    counts = np.array([np.count_nonzero(sample == i) for i in range(10)])\n",
    "    probabilities = counts / counts.sum()\n",
    "    F_ = np.cumsum(probabilities)\n",
    "    arr_delta1 = np.abs(F_ - F)\n",
    "    arr_delta2 = np.zeros_like(arr_delta1)\n",
    "    arr_delta2[1:] = abs(F_[1:10] - F[0:9])\n",
    "    sup1 = max(arr_delta1)\n",
    "    sup2 = max(arr_delta2)\n",
    "    sup = max(sup1, sup2)\n",
    "    bootstrap_arr.append(np.sqrt(n) * sup)\n",
    "    \n",
    "lenght = len([x for x in bootstrap_arr if x <= delta]) \n",
    "p_value = lenght / B\n",
    "print(f\"p-value = {p_value}\")"
   ]
  },
  {
   "cell_type": "code",
   "execution_count": 20,
   "id": "2dc8b34f",
   "metadata": {},
   "outputs": [],
   "source": []
  },
  {
   "cell_type": "code",
   "execution_count": null,
   "id": "19a626bf",
   "metadata": {},
   "outputs": [],
   "source": []
  }
 ],
 "metadata": {
  "kernelspec": {
   "display_name": "Python 3 (ipykernel)",
   "language": "python",
   "name": "python3"
  },
  "language_info": {
   "codemirror_mode": {
    "name": "ipython",
    "version": 3
   },
   "file_extension": ".py",
   "mimetype": "text/x-python",
   "name": "python",
   "nbconvert_exporter": "python",
   "pygments_lexer": "ipython3",
   "version": "3.10.12"
  }
 },
 "nbformat": 4,
 "nbformat_minor": 5
}
