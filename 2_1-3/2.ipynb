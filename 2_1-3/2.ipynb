{
 "cells": [
  {
   "cell_type": "code",
   "execution_count": 2,
   "id": "51228d8b",
   "metadata": {},
   "outputs": [],
   "source": [
    "import numpy as np\n",
    "from sklearn.linear_model import LinearRegression\n",
    "import pandas as pd\n",
    "import matplotlib.pyplot as plt\n",
    "import seaborn as sns\n",
    "\n",
    "from scipy.stats import t, f, norm"
   ]
  },
  {
   "cell_type": "code",
   "execution_count": 3,
   "id": "c48ddaad",
   "metadata": {},
   "outputs": [],
   "source": [
    "alpha = 0.05"
   ]
  },
  {
   "cell_type": "code",
   "execution_count": 4,
   "id": "2d21667e",
   "metadata": {},
   "outputs": [
    {
     "data": {
      "text/html": [
       "<div>\n",
       "<style scoped>\n",
       "    .dataframe tbody tr th:only-of-type {\n",
       "        vertical-align: middle;\n",
       "    }\n",
       "\n",
       "    .dataframe tbody tr th {\n",
       "        vertical-align: top;\n",
       "    }\n",
       "\n",
       "    .dataframe thead th {\n",
       "        text-align: right;\n",
       "    }\n",
       "</style>\n",
       "<table border=\"1\" class=\"dataframe\">\n",
       "  <thead>\n",
       "    <tr style=\"text-align: right;\">\n",
       "      <th></th>\n",
       "      <th>group</th>\n",
       "      <th>ig</th>\n",
       "    </tr>\n",
       "  </thead>\n",
       "  <tbody>\n",
       "    <tr>\n",
       "      <th>0</th>\n",
       "      <td>1</td>\n",
       "      <td>[83, 85]</td>\n",
       "    </tr>\n",
       "    <tr>\n",
       "      <th>1</th>\n",
       "      <td>2</td>\n",
       "      <td>[84, 85, 85, 86, 86, 87]</td>\n",
       "    </tr>\n",
       "    <tr>\n",
       "      <th>2</th>\n",
       "      <td>3</td>\n",
       "      <td>[86, 87, 87, 87, 88, 88, 88, 88, 88, 89, 90]</td>\n",
       "    </tr>\n",
       "    <tr>\n",
       "      <th>3</th>\n",
       "      <td>4</td>\n",
       "      <td>[89, 90, 90, 91]</td>\n",
       "    </tr>\n",
       "    <tr>\n",
       "      <th>4</th>\n",
       "      <td>5</td>\n",
       "      <td>[90, 92]</td>\n",
       "    </tr>\n",
       "  </tbody>\n",
       "</table>\n",
       "</div>"
      ],
      "text/plain": [
       "   group                                            ig\n",
       "0      1                                      [83, 85]\n",
       "1      2                      [84, 85, 85, 86, 86, 87]\n",
       "2      3  [86, 87, 87, 87, 88, 88, 88, 88, 88, 89, 90]\n",
       "3      4                              [89, 90, 90, 91]\n",
       "4      5                                      [90, 92]"
      ]
     },
     "execution_count": 4,
     "metadata": {},
     "output_type": "execute_result"
    }
   ],
   "source": [
    "data = {'group': [1, 2, 3, 4, 5],\n",
    "        'ig': [[83, 85],\n",
    "               [84, 85, 85, 86, 86, 87],\n",
    "               [86, 87, 87, 87, 88, 88, 88, 88, 88, 89, 90],\n",
    "               [89, 90, 90, 91],\n",
    "               [90, 92]]}\n",
    "\n",
    "df = pd.DataFrame(data=data)\n",
    "df"
   ]
  },
  {
   "cell_type": "code",
   "execution_count": 5,
   "id": "3056e38b",
   "metadata": {},
   "outputs": [],
   "source": [
    "y_temp = np.concatenate(data['ig']).flatten().reshape(1, -1).T\n",
    "y = y_temp.ravel()\n",
    "n = np.size(y)\n",
    "groups_count = len(data['group'])\n",
    "PSI_preparation = []\n",
    "for i, group in enumerate(data['ig']):\n",
    "        tmp = [1 if j == i else 0 for j in range(groups_count)]\n",
    "        for _ in range(len(group)):\n",
    "            PSI_preparation.append(tmp)\n",
    "# print(PSI_preparation)\n",
    "sample = np.hstack((PSI_preparation, y_temp))\n",
    "# print(sample)\n",
    "X = sample[:, :-1]"
   ]
  },
  {
   "cell_type": "markdown",
   "id": "ffeb0b51",
   "metadata": {},
   "source": [
    "## Определение влияния возраста на содержание иммуноглобулина в крови с помощью регрессионного анализа"
   ]
  },
  {
   "cell_type": "code",
   "execution_count": 6,
   "id": "15b1834b",
   "metadata": {},
   "outputs": [
    {
     "name": "stdout",
     "output_type": "stream",
     "text": [
      "Полученные оэффициенты 84.0 85.5 87.82 90.0 91.0\n"
     ]
    }
   ],
   "source": [
    "F = X.T @ X\n",
    "F_inv = np.linalg.inv(F)\n",
    "\n",
    "b = F_inv @ X.T @ y\n",
    "print('Полученные оэффициенты', *np.round(b, 2))\n",
    "\n",
    "# model = LinearRegression(fit_intercept=False)\n",
    "# model.fit(X, y)\n",
    "\n",
    "# Create a pandas DataFrame to display the coefficients\n",
    "# coefficients_df = pd.DataFrame({'My Coefficients': np.round(b, 1), 'Sklearn coefficients': np.round(model.coef_, 1)})\n",
    "# coefficients_df"
   ]
  },
  {
   "cell_type": "markdown",
   "id": "5169a71e",
   "metadata": {},
   "source": [
    "### Значимость коэффициентов"
   ]
  },
  {
   "cell_type": "code",
   "execution_count": 7,
   "id": "946318f3",
   "metadata": {},
   "outputs": [],
   "source": [
    "y_pred = b @ X.T\n",
    "RSS = np.sum((y_pred - y) ** 2)\n",
    "# print(\"RSS:\", np.round(RSS, 2))"
   ]
  },
  {
   "cell_type": "code",
   "execution_count": 8,
   "id": "e3bc454c",
   "metadata": {},
   "outputs": [
    {
     "data": {
      "text/html": [
       "<div>\n",
       "<style scoped>\n",
       "    .dataframe tbody tr th:only-of-type {\n",
       "        vertical-align: middle;\n",
       "    }\n",
       "\n",
       "    .dataframe tbody tr th {\n",
       "        vertical-align: top;\n",
       "    }\n",
       "\n",
       "    .dataframe thead th {\n",
       "        text-align: right;\n",
       "    }\n",
       "</style>\n",
       "<table border=\"1\" class=\"dataframe\">\n",
       "  <thead>\n",
       "    <tr style=\"text-align: right;\">\n",
       "      <th></th>\n",
       "      <th>Delta</th>\n",
       "      <th>p_value</th>\n",
       "      <th>Значимость</th>\n",
       "    </tr>\n",
       "  </thead>\n",
       "  <tbody>\n",
       "    <tr>\n",
       "      <th>0</th>\n",
       "      <td>110.45</td>\n",
       "      <td>0.0</td>\n",
       "      <td>True</td>\n",
       "    </tr>\n",
       "    <tr>\n",
       "      <th>1</th>\n",
       "      <td>194.72</td>\n",
       "      <td>0.0</td>\n",
       "      <td>True</td>\n",
       "    </tr>\n",
       "    <tr>\n",
       "      <th>2</th>\n",
       "      <td>270.80</td>\n",
       "      <td>0.0</td>\n",
       "      <td>True</td>\n",
       "    </tr>\n",
       "    <tr>\n",
       "      <th>3</th>\n",
       "      <td>167.36</td>\n",
       "      <td>0.0</td>\n",
       "      <td>True</td>\n",
       "    </tr>\n",
       "    <tr>\n",
       "      <th>4</th>\n",
       "      <td>119.65</td>\n",
       "      <td>0.0</td>\n",
       "      <td>True</td>\n",
       "    </tr>\n",
       "  </tbody>\n",
       "</table>\n",
       "</div>"
      ],
      "text/plain": [
       "    Delta  p_value  Значимость\n",
       "0  110.45      0.0        True\n",
       "1  194.72      0.0        True\n",
       "2  270.80      0.0        True\n",
       "3  167.36      0.0        True\n",
       "4  119.65      0.0        True"
      ]
     },
     "execution_count": 8,
     "metadata": {},
     "output_type": "execute_result"
    }
   ],
   "source": [
    "p = b.shape[0] # count of coefficients\n",
    "\n",
    "deltas_sign = b / np.sqrt(RSS * F_inv.diagonal()) * np.sqrt(n - p)\n",
    "p_value = 2 * (1 - t.cdf(np.abs(deltas_sign), n - p))\n",
    "\n",
    "pd_df = pd.DataFrame({'Delta': np.round(deltas_sign, 2), 'p_value': p_value, 'Значимость' : p_value < alpha})\n",
    "pd_df"
   ]
  },
  {
   "cell_type": "markdown",
   "id": "6102f2e2",
   "metadata": {},
   "source": [
    "### Значимость регрессии"
   ]
  },
  {
   "cell_type": "code",
   "execution_count": 9,
   "id": "202101fb",
   "metadata": {},
   "outputs": [],
   "source": [
    "TSS = np.sum((y - np.mean(y)) ** 2)\n",
    "# print(\"TSS:\", np.round(TSS))"
   ]
  },
  {
   "cell_type": "code",
   "execution_count": 28,
   "id": "4035c7d0",
   "metadata": {},
   "outputs": [
    {
     "name": "stdout",
     "output_type": "stream",
     "text": [
      "R^2: 0.811\n"
     ]
    }
   ],
   "source": [
    "R2 = (TSS - RSS) / TSS\n",
    "print(\"R^2:\", np.round(R2, 3))"
   ]
  },
  {
   "cell_type": "code",
   "execution_count": 11,
   "id": "36ffb1bb",
   "metadata": {},
   "outputs": [
    {
     "name": "stdout",
     "output_type": "stream",
     "text": [
      "delta: 21.4\n",
      "p_value: 5.407435041959729e-07\n",
      "Регрессия значима\n"
     ]
    }
   ],
   "source": [
    "delta = R2 / (1 - R2) * (n - p) / (p - 1)\n",
    "print(\"delta:\",np.round(delta, 2))\n",
    "\n",
    "p_value = f.cdf(-np.abs(delta), p - 1, n - p) + (1 - f.cdf(np.abs(delta), p - 1, n - p))\n",
    "print(\"p_value:\", p_value)\n",
    "if (p_value < alpha):\n",
    "    print(\"Регрессия значима\")\n",
    "else:\n",
    "    print(\"Регрессия не значима\")"
   ]
  },
  {
   "cell_type": "markdown",
   "id": "ae2e81fc",
   "metadata": {},
   "source": [
    "### Случайность выборки"
   ]
  },
  {
   "cell_type": "code",
   "execution_count": 12,
   "id": "0a7154f5",
   "metadata": {},
   "outputs": [],
   "source": [
    "errors = y_pred - y"
   ]
  },
  {
   "cell_type": "code",
   "execution_count": 13,
   "id": "333c1c12",
   "metadata": {},
   "outputs": [],
   "source": [
    "def merge_sort(arr):\n",
    "    \"\"\"\n",
    "    Funciton which calculates count of invertions and sorts an array\n",
    "    \"\"\"\n",
    "    # Helper function to merge two sorted arrays and count inversions\n",
    "    def merge(left, right):\n",
    "        merged = []\n",
    "        count = 0\n",
    "        i = j = 0\n",
    "\n",
    "        while i < len(left) and j < len(right):\n",
    "            if left[i] <= right[j]:\n",
    "                merged.append(left[i])\n",
    "                i += 1\n",
    "            else:\n",
    "                # Element from the right array is smaller, so it's an inversion\n",
    "                merged.append(right[j])\n",
    "                count += len(left) - i\n",
    "                j += 1\n",
    "\n",
    "        merged.extend(left[i:])\n",
    "        merged.extend(right[j:])\n",
    "        \n",
    "        return merged, count\n",
    "\n",
    "    if len(arr) <= 1:\n",
    "        return arr, 0\n",
    "\n",
    "    mid = len(arr) // 2\n",
    "    left, inv_left = merge_sort(arr[:mid])\n",
    "    right, inv_right = merge_sort(arr[mid:])\n",
    "\n",
    "    merged, count = merge(left, right)\n",
    "\n",
    "    return merged, count + inv_left + inv_right"
   ]
  },
  {
   "cell_type": "code",
   "execution_count": 14,
   "id": "820957a6",
   "metadata": {},
   "outputs": [
    {
     "name": "stdout",
     "output_type": "stream",
     "text": [
      "Число инверсий: 162\n"
     ]
    }
   ],
   "source": [
    "errors_sorted, inversion_count = merge_sort(errors)\n",
    "print(\"Число инверсий:\", inversion_count)"
   ]
  },
  {
   "cell_type": "code",
   "execution_count": 15,
   "id": "0d729025",
   "metadata": {},
   "outputs": [
    {
     "name": "stdout",
     "output_type": "stream",
     "text": [
      "delta: 0.58\n",
      "p-value: 0.68\n",
      "Выборка случайная\n"
     ]
    }
   ],
   "source": [
    "delta = (inversion_count - n * (n - 1) / 4) * np.sqrt(36 / n**3)\n",
    "print(\"delta:\", np.round(delta, 2))\n",
    "\n",
    "p_value = 2 * norm.pdf(np.abs(delta), 0, 1)\n",
    "print(\"p-value:\", np.round(p_value, 2))\n",
    "if (p_value < alpha):\n",
    "    print(\"Выборка не случайная\")\n",
    "else:\n",
    "    print(\"Выборка случайная\")"
   ]
  },
  {
   "cell_type": "markdown",
   "id": "224c5bb6",
   "metadata": {},
   "source": [
    "### Randominess of errors"
   ]
  },
  {
   "cell_type": "code",
   "execution_count": 16,
   "id": "ea492f8e",
   "metadata": {},
   "outputs": [],
   "source": [
    "# Number of bootstrap samples\n",
    "n_samples = 1000"
   ]
  },
  {
   "cell_type": "code",
   "execution_count": 17,
   "id": "056e4b24",
   "metadata": {},
   "outputs": [],
   "source": [
    "# Calculate the empirical function (CDF)\n",
    "F_n = np.arange(1, n + 1) / n\n",
    "\n",
    "# Plot the empirical function\n",
    "# plt.step(errors_sorted, F_n, where='post')\n",
    "# plt.title('Empirical Function of the Distribution')\n",
    "# plt.xlabel('Data')\n",
    "# plt.ylabel('Probability')\n",
    "# plt.show()"
   ]
  },
  {
   "cell_type": "code",
   "execution_count": 18,
   "id": "bb1e5038",
   "metadata": {},
   "outputs": [
    {
     "name": "stdout",
     "output_type": "stream",
     "text": [
      "Средне-арифметическое значение бутстрапа: 4.08\n",
      "Значение дельта с волной: 3.8\n"
     ]
    }
   ],
   "source": [
    "# Generate bootstrap samples and calculate the delta for each sample\n",
    "def delta(sample):    \n",
    "    global F_n, n\n",
    "    delta = np.sqrt(n) * np.max(np.abs(F_n - norm.pdf(sample, 0, np.var(sample))))\n",
    "    return delta\n",
    "\n",
    "\n",
    "deltas = np.array([delta(np.random.choice(errors, size=n, replace=True)) for _ in range(n_samples)])\n",
    "print(\"Средне-арифметическое значение бутстрапа:\", np.round(deltas.mean(), 2))\n",
    "\n",
    "wave_delta = delta(errors)\n",
    "print(\"Значение дельта с волной:\", np.round(wave_delta, 2))"
   ]
  },
  {
   "cell_type": "code",
   "execution_count": 19,
   "id": "a5ca8456",
   "metadata": {},
   "outputs": [
    {
     "name": "stdout",
     "output_type": "stream",
     "text": [
      "p-value: 0.74\n",
      "Errors have normal distribution\n"
     ]
    }
   ],
   "source": [
    "p_value = np.sum(deltas >= wave_delta) / n_samples\n",
    "print(\"p-value:\", np.round(p_value, 2))\n",
    "if (p_value < alpha):\n",
    "    print(\"Errors do not have normal distribution\")\n",
    "else:\n",
    "    print(\"Errors have normal distribution\")"
   ]
  },
  {
   "cell_type": "markdown",
   "id": "751ab757",
   "metadata": {},
   "source": [
    "### Наличие выбросов"
   ]
  },
  {
   "cell_type": "code",
   "execution_count": 20,
   "id": "3cace545",
   "metadata": {},
   "outputs": [
    {
     "name": "stdout",
     "output_type": "stream",
     "text": [
      "Count of outliers: 0\n",
      "Outliers: []\n"
     ]
    },
    {
     "data": {
      "image/png": "[encoded data removed]",
      "text/plain": [
       "<Figure size 640x480 with 1 Axes>"
      ]
     },
     "metadata": {},
     "output_type": "display_data"
    }
   ],
   "source": [
    "# Create a figure and axis\n",
    "fig, ax = plt.subplots()\n",
    "\n",
    "# Create a boxplot with the random data\n",
    "boxplot = ax.boxplot(errors, vert=False)\n",
    "\n",
    "outliers = boxplot['fliers'][0].get_data()[0]\n",
    "\n",
    "# Count the outliers\n",
    "outliers_count = len(outliers)\n",
    "print(\"Count of outliers:\", outliers_count)\n",
    "print(\"Outliers:\", np.round(outliers, 2))\n",
    "\n",
    "# Set labels and title\n",
    "ax.set_xlabel('Values')\n",
    "ax.set_title('Boxplot of Errors')\n",
    "\n",
    "# Show the plot\n",
    "plt.show()"
   ]
  },
  {
   "cell_type": "markdown",
   "id": "b5504313",
   "metadata": {},
   "source": [
    "## Сравнение средних"
   ]
  },
  {
   "cell_type": "code",
   "execution_count": 26,
   "id": "c672455c",
   "metadata": {},
   "outputs": [
    {
     "name": "stdout",
     "output_type": "stream",
     "text": [
      "[[1.000e+00 1.031e-01 2.000e-04 0.000e+00 0.000e+00]\n",
      " [1.031e-01 1.000e+00 4.000e-04 0.000e+00 0.000e+00]\n",
      " [2.000e-04 4.000e-04 1.000e+00 2.400e-03 1.000e-03]\n",
      " [0.000e+00 0.000e+00 2.400e-03 1.000e+00 2.958e-01]\n",
      " [0.000e+00 0.000e+00 1.000e-03 2.958e-01 1.000e+00]]\n"
     ]
    }
   ],
   "source": [
    "p_values = np.full((p, p), 1, dtype=float)\n",
    "equality = np.full((p, p), True)\n",
    "\n",
    "F_inv_diag = np.diagonal(F_inv)\n",
    "for i in range(p):\n",
    "    for j in range(i + 1, p):\n",
    "        delta = (b[i] - b[j]) / np.sqrt(RSS * (F_inv_diag[i] + F_inv_diag[j])) * np.sqrt(n - p)\n",
    "        p_value = 2 * (1 - t(n - p).cdf(np.abs(delta)))\n",
    "        p_values[j][i], p_values[i][j] = p_value, p_value\n",
    "\n",
    "        if (p_value < alpha):\n",
    "            equality[i][j], equality[j][i] = False, False\n",
    "        else:\n",
    "            equality[i][j], equality[j][i] = True, True\n",
    "            \n",
    "\n",
    "# fig, (ax1, ax2) = plt.subplots(1, 2, figsize=(12, 6))\n",
    "# ax1.set_title('Equality')\n",
    "# ax2.set_title('p-values')\n",
    "# print(equality)\n",
    "print(np.round(p_values, 4))\n",
    "# sns.heatmap(equality, annot=True, fmt='b', ax=ax1)\n",
    "# sns.heatmap(np.round(p_values, 4), annot=True, ax=ax2)\n",
    "# None"
   ]
  },
  {
   "cell_type": "code",
   "execution_count": 27,
   "id": "95a6ad22-e3c8-4657-b3fd-2a00ac5cb98a",
   "metadata": {},
   "outputs": [
    {
     "name": "stdout",
     "output_type": "stream",
     "text": [
      "[1, 2] [4, 5]\n"
     ]
    }
   ],
   "source": [
    "print('[1, 2]', '[4, 5]')"
   ]
  },
  {
   "cell_type": "code",
   "execution_count": null,
   "id": "b4661f96-1318-4294-8691-c579ea8be40b",
   "metadata": {},
   "outputs": [],
   "source": []
  }
 ],
 "metadata": {
  "kernelspec": {
   "display_name": "Python 3 (ipykernel)",
   "language": "python",
   "name": "python3"
  },
  "language_info": {
   "codemirror_mode": {
    "name": "ipython",
    "version": 3
   },
   "file_extension": ".py",
   "mimetype": "text/x-python",
   "name": "python",
   "nbconvert_exporter": "python",
   "pygments_lexer": "ipython3",
   "version": "3.10.12"
  }
 },
 "nbformat": 4,
 "nbformat_minor": 5
}
