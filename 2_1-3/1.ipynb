{
 "cells": [
  {
   "cell_type": "code",
   "execution_count": 36,
   "id": "b073f548",
   "metadata": {},
   "outputs": [],
   "source": [
    "import numpy as np\n",
    "import matplotlib.pyplot as plt\n",
    "import seaborn as sns\n",
    "import pandas as pd\n",
    "\n",
    "from sklearn.linear_model import LinearRegression\n",
    "from sklearn.model_selection import cross_val_score, KFold\n",
    "\n",
    "from scipy.stats import t, f, norm\n",
    "import statsmodels.api as sm"
   ]
  },
  {
   "cell_type": "markdown",
   "id": "9f99db47",
   "metadata": {},
   "source": [
    "#                                                     Задача 1"
   ]
  },
  {
   "cell_type": "code",
   "execution_count": 37,
   "id": "7b11fe69",
   "metadata": {},
   "outputs": [],
   "source": [
    "n = 50\n",
    "alpha = 0.05"
   ]
  },
  {
   "cell_type": "code",
   "execution_count": 38,
   "id": "c856c845",
   "metadata": {},
   "outputs": [],
   "source": [
    "def csi():\n",
    "    # Generate 50 random numbers from a uniform distribution\n",
    "    global n\n",
    "    return np.random.uniform(-1, 1, n)"
   ]
  },
  {
   "cell_type": "code",
   "execution_count": 39,
   "id": "498831ae",
   "metadata": {},
   "outputs": [],
   "source": [
    "data = np.array([np.ones(n), csi(), csi(), csi(), csi(), csi()])\n",
    "genuine_coefs = np.array([2, 3, -2, 1, 1, -1])\n",
    "s = len(genuine_coefs)\n",
    "etta = np.random.normal(genuine_coefs @ data, 1.5 ** 2)\n",
    "psi = data.T\n",
    "# print(psi)"
   ]
  },
  {
   "cell_type": "markdown",
   "id": "ac9b3747",
   "metadata": {},
   "source": [
    "## a) Проверка переменных кси_k на мультиколлинеарность"
   ]
  },
  {
   "cell_type": "code",
   "execution_count": 40,
   "id": "7c0b1a07",
   "metadata": {},
   "outputs": [],
   "source": [
    "data_pd = pd.DataFrame(psi)\n",
    "# print(data_pd)\n",
    "correlation_matrix = data_pd.corr()\n",
    "# print(correlation_matrix)\n",
    "# plt.figure(figsize=(10, 8))\n",
    "# sns.heatmap(correlation_matrix, annot=True)\n",
    "# plt.title('Correlation Matrix Heatmap for features')\n",
    "# plt.show()\n",
    "# None"
   ]
  },
  {
   "cell_type": "code",
   "execution_count": 71,
   "id": "03f0e71e",
   "metadata": {},
   "outputs": [
    {
     "name": "stdout",
     "output_type": "stream",
     "text": [
      "1 R^2: 0.011647439714649927 независим\n",
      "2 R^2: 0.03430492697344012 независим\n",
      "3 R^2: 0.09491253591957688 независим\n",
      "4 R^2: 0.04163989530683063 независим\n",
      "5 R^2: 0.08043992376363852 независим\n"
     ]
    }
   ],
   "source": [
    "# Define an empty list to store R2 values\n",
    "r2_values = []\n",
    "\n",
    "# Your code to calculate R2 values (shown partially here)\n",
    "model = LinearRegression(fit_intercept=True)\n",
    "for i in range(1, psi.shape[1]): # psi.shape[1] = 6\n",
    "    X = np.delete(psi, i, axis=1)\n",
    "    # print(X)\n",
    "    y = psi.T[i]\n",
    "    \n",
    "    F = X.T @ X\n",
    "    F_inv = np.linalg.inv(F)\n",
    "    b = F_inv @ X.T @ y\n",
    "    \n",
    "    RSS = np.sum((y - b @ X.T) ** 2)\n",
    "    TSS = np.sum((y - y.mean()) ** 2)\n",
    "    R2 = (TSS - RSS) / TSS\n",
    "    \n",
    "    if R2 >= 0.7:\n",
    "        print(i, 'R^2:', R2, \"существенно связан, и обЬясняется с остальными факторами\")\n",
    "    else:\n",
    "        print(i, 'R^2:', R2, \"независим\")\n",
    "        \n",
    "    r2_values.append(R2)\n",
    "\n",
    "# Reshape R2 values array for a heatmap\n",
    "# r2_matrix = np.array(r2_values).reshape(1, -1)\n",
    "\n",
    "# # Create a heatmap with R2 values\n",
    "# plt.figure(figsize=(10, 8))\n",
    "# sns.heatmap(r2_matrix, annot=True, cmap='coolwarm', square=True, xticklabels=list(range(1, psi.shape[1])))\n",
    "# plt.xlabel('Feature Index')\n",
    "# plt.ylabel('R2 Value')\n",
    "# plt.title('R2 Values Heatmap')\n",
    "# plt.show()"
   ]
  },
  {
   "cell_type": "markdown",
   "id": "5bccb9e5",
   "metadata": {},
   "source": [
    "## b) Определение уравнения линейной регресии и проверка значимости коэффициентов"
   ]
  },
  {
   "cell_type": "code",
   "execution_count": 42,
   "id": "925d6d6c",
   "metadata": {},
   "outputs": [
    {
     "data": {
      "text/html": [
       "<div>\n",
       "<style scoped>\n",
       "    .dataframe tbody tr th:only-of-type {\n",
       "        vertical-align: middle;\n",
       "    }\n",
       "\n",
       "    .dataframe tbody tr th {\n",
       "        vertical-align: top;\n",
       "    }\n",
       "\n",
       "    .dataframe thead th {\n",
       "        text-align: right;\n",
       "    }\n",
       "</style>\n",
       "<table border=\"1\" class=\"dataframe\">\n",
       "  <thead>\n",
       "    <tr style=\"text-align: right;\">\n",
       "      <th></th>\n",
       "      <th>Полученные коэффициенты</th>\n",
       "      <th>Данные коэффициенты</th>\n",
       "    </tr>\n",
       "  </thead>\n",
       "  <tbody>\n",
       "    <tr>\n",
       "      <th>0</th>\n",
       "      <td>2.5</td>\n",
       "      <td>2</td>\n",
       "    </tr>\n",
       "    <tr>\n",
       "      <th>1</th>\n",
       "      <td>3.0</td>\n",
       "      <td>3</td>\n",
       "    </tr>\n",
       "    <tr>\n",
       "      <th>2</th>\n",
       "      <td>-2.1</td>\n",
       "      <td>-2</td>\n",
       "    </tr>\n",
       "    <tr>\n",
       "      <th>3</th>\n",
       "      <td>0.5</td>\n",
       "      <td>1</td>\n",
       "    </tr>\n",
       "    <tr>\n",
       "      <th>4</th>\n",
       "      <td>0.7</td>\n",
       "      <td>1</td>\n",
       "    </tr>\n",
       "    <tr>\n",
       "      <th>5</th>\n",
       "      <td>-2.0</td>\n",
       "      <td>-1</td>\n",
       "    </tr>\n",
       "  </tbody>\n",
       "</table>\n",
       "</div>"
      ],
      "text/plain": [
       "   Полученные коэффициенты  Данные коэффициенты\n",
       "0                      2.5                    2\n",
       "1                      3.0                    3\n",
       "2                     -2.1                   -2\n",
       "3                      0.5                    1\n",
       "4                      0.7                    1\n",
       "5                     -2.0                   -1"
      ]
     },
     "execution_count": 42,
     "metadata": {},
     "output_type": "execute_result"
    }
   ],
   "source": [
    "F = psi.T @ psi\n",
    "F_inv = np.linalg.inv(F)\n",
    "b = F_inv @ psi.T @ etta\n",
    "\n",
    "\n",
    "# Create index for the coefficients\n",
    "index = np.arange(len(b))\n",
    "\n",
    "# Define width of bar\n",
    "bar_width = 0.35\n",
    "\n",
    "# Create bar plot for coefficients\n",
    "# plt.figure(figsize=(10, 6))\n",
    "# plt.bar(index, b, bar_width, label='My Coefficients', color='b')\n",
    "# plt.bar(index + bar_width, genuine_coefs, bar_width, label='Genuine Coefficients', color='r')\n",
    "\n",
    "# plt.xlabel('Coefficient Index')\n",
    "# plt.ylabel('Coefficient Value')\n",
    "# plt.title('Comparison of My Coefficients and Genuine Coefficients')\n",
    "# plt.xticks(index + bar_width, range(len(b)))\n",
    "# plt.legend()\n",
    "\n",
    "# plt.show()\n",
    "\n",
    "# Create a pandas DataFrame to display the coefficients\n",
    "# coefficients_df = pd.DataFrame({'My Coefficients': np.round(b, 1), 'Genuine Coefficients': genuine_coefs})\n",
    "coefficients_df = pd.DataFrame({'Полученные коэффициенты': np.round(b, 1), 'Данные коэффициенты': genuine_coefs})\n",
    "coefficients_df"
   ]
  },
  {
   "cell_type": "code",
   "execution_count": 43,
   "id": "936e5467",
   "metadata": {},
   "outputs": [],
   "source": [
    "# Fit the linear regression model\n",
    "# model = LinearRegression(fit_intercept=True)\n",
    "# model.fit(psi, etta)\n",
    "\n",
    "# coefs = np.zeros(s)\n",
    "# coefs[0] = np.round(model.intercept_, 1)\n",
    "# coefs[1:] = np.round(model.coef_, 1)[1:]\n",
    "\n",
    "# Create a pandas DataFrame to display the coefficients\n",
    "# coefficients_df = pd.DataFrame({'Sklearn coefficients': np.round(coefs, 1), 'My Coefficients': np.round(b, 1), 'Genuine Coefficients': genuine_coefs})\n",
    "# coefficients_df"
   ]
  },
  {
   "cell_type": "code",
   "execution_count": 44,
   "id": "86299cc8",
   "metadata": {},
   "outputs": [],
   "source": [
    "etta_pred = b @ psi.T\n",
    "RSS = np.sum((etta_pred - etta) ** 2)\n",
    "# print(\"RSS:\", np.round(RSS, 2))"
   ]
  },
  {
   "cell_type": "code",
   "execution_count": 45,
   "id": "8381a0f4",
   "metadata": {},
   "outputs": [
    {
     "data": {
      "text/html": [
       "<div>\n",
       "<style scoped>\n",
       "    .dataframe tbody tr th:only-of-type {\n",
       "        vertical-align: middle;\n",
       "    }\n",
       "\n",
       "    .dataframe tbody tr th {\n",
       "        vertical-align: top;\n",
       "    }\n",
       "\n",
       "    .dataframe thead th {\n",
       "        text-align: right;\n",
       "    }\n",
       "</style>\n",
       "<table border=\"1\" class=\"dataframe\">\n",
       "  <thead>\n",
       "    <tr style=\"text-align: right;\">\n",
       "      <th></th>\n",
       "      <th>Delta</th>\n",
       "      <th>p_value</th>\n",
       "      <th>Значимость</th>\n",
       "    </tr>\n",
       "  </thead>\n",
       "  <tbody>\n",
       "    <tr>\n",
       "      <th>0</th>\n",
       "      <td>6.59</td>\n",
       "      <td>4.496434e-08</td>\n",
       "      <td>True</td>\n",
       "    </tr>\n",
       "    <tr>\n",
       "      <th>1</th>\n",
       "      <td>5.15</td>\n",
       "      <td>5.904609e-06</td>\n",
       "      <td>True</td>\n",
       "    </tr>\n",
       "    <tr>\n",
       "      <th>2</th>\n",
       "      <td>-3.29</td>\n",
       "      <td>1.999223e-03</td>\n",
       "      <td>True</td>\n",
       "    </tr>\n",
       "    <tr>\n",
       "      <th>3</th>\n",
       "      <td>0.78</td>\n",
       "      <td>4.402665e-01</td>\n",
       "      <td>False</td>\n",
       "    </tr>\n",
       "    <tr>\n",
       "      <th>4</th>\n",
       "      <td>1.26</td>\n",
       "      <td>2.140389e-01</td>\n",
       "      <td>False</td>\n",
       "    </tr>\n",
       "    <tr>\n",
       "      <th>5</th>\n",
       "      <td>-2.76</td>\n",
       "      <td>8.393992e-03</td>\n",
       "      <td>True</td>\n",
       "    </tr>\n",
       "  </tbody>\n",
       "</table>\n",
       "</div>"
      ],
      "text/plain": [
       "   Delta       p_value  Значимость\n",
       "0   6.59  4.496434e-08        True\n",
       "1   5.15  5.904609e-06        True\n",
       "2  -3.29  1.999223e-03        True\n",
       "3   0.78  4.402665e-01       False\n",
       "4   1.26  2.140389e-01       False\n",
       "5  -2.76  8.393992e-03        True"
      ]
     },
     "execution_count": 45,
     "metadata": {},
     "output_type": "execute_result"
    }
   ],
   "source": [
    "p = b.shape[0] # count of coefficients\n",
    "\n",
    "deltas_sign = b / np.sqrt(RSS * F_inv.diagonal()) * np.sqrt(n - p)\n",
    "# p_value = 2 * (1 - t.cdf(np.abs(deltas_sign), n - p))\n",
    "p_value = 2 * t.cdf(-np.abs(deltas_sign), n - p)\n",
    "pd_df = pd.DataFrame({'Delta': np.round(deltas_sign, 2), 'p_value': p_value, 'Значимость' : p_value < alpha})\n",
    "pd_df"
   ]
  },
  {
   "cell_type": "markdown",
   "id": "7eeeec35",
   "metadata": {},
   "source": [
    "## c) Определения коэффициента детерминации и проверка его значимости"
   ]
  },
  {
   "cell_type": "code",
   "execution_count": 46,
   "id": "59ccba46",
   "metadata": {},
   "outputs": [],
   "source": [
    "TSS = np.sum((etta - np.mean(etta)) ** 2)\n",
    "# print(\"TSS:\", np.round(TSS))"
   ]
  },
  {
   "cell_type": "code",
   "execution_count": 47,
   "id": "b2d529a3",
   "metadata": {},
   "outputs": [
    {
     "name": "stdout",
     "output_type": "stream",
     "text": [
      "R^2 = 0.551\n"
     ]
    }
   ],
   "source": [
    "R2 = (TSS - RSS) / TSS\n",
    "print(\"R^2 =\", np.round(R2, 3))"
   ]
  },
  {
   "cell_type": "code",
   "execution_count": 48,
   "id": "60ab872a",
   "metadata": {},
   "outputs": [
    {
     "name": "stdout",
     "output_type": "stream",
     "text": [
      "delta: 10.79\n",
      "p_value: 8.237836545132993e-07\n",
      "Регрессия значима\n"
     ]
    }
   ],
   "source": [
    "delta = R2 / (1 - R2) * (n - p) / (p - 1)\n",
    "print(\"delta:\",np.round(delta, 2))\n",
    "\n",
    "p_value = f.cdf(-np.abs(delta), p - 1, n - p) + (1 - f.cdf(np.abs(delta), p - 1, n - p))\n",
    "print(\"p_value:\", p_value)\n",
    "if (p_value < alpha):\n",
    "    print(\"Регрессия значима\")\n",
    "else:\n",
    "    print(\"Нет оснований отвергать гипотезу о незначимости регрессии\")"
   ]
  },
  {
   "cell_type": "markdown",
   "id": "504b02ed",
   "metadata": {},
   "source": [
    "## d) Нахождения значения в точке x_k=0 и построение 95% доверительного интервала"
   ]
  },
  {
   "cell_type": "code",
   "execution_count": 49,
   "id": "6412297f",
   "metadata": {},
   "outputs": [
    {
     "name": "stdout",
     "output_type": "stream",
     "text": [
      "Доверительный интервал: 3.69 < 5.01 < 7.12\n"
     ]
    }
   ],
   "source": [
    "x0 = np.zeros(6)\n",
    "x0[0] = 2\n",
    "x_pred = b @ x0\n",
    "kappa = np.sqrt(1 + x0 @ F_inv @ x0.T)\n",
    "t1 = t.cdf(alpha, n - p)\n",
    "t2 = t.cdf(1 - alpha, n - p)\n",
    "\n",
    "etta1 = x_pred - t1 * kappa * np.sqrt(RSS  / (n - p))\n",
    "etta2 = x_pred + t2 * kappa * np.sqrt(RSS  / (n - p))\n",
    "\n",
    "print('Доверительный интервал:', np.round(etta1, 2), \"<\", np.round(x_pred, 2), \"<\", np.round(etta2, 2))"
   ]
  },
  {
   "cell_type": "markdown",
   "id": "a1752fe2",
   "metadata": {},
   "source": [
    "## e) Проверка предположения о независимости ошибок измерения"
   ]
  },
  {
   "cell_type": "code",
   "execution_count": 50,
   "id": "52f92d0a",
   "metadata": {},
   "outputs": [],
   "source": [
    "errors = etta - etta_pred"
   ]
  },
  {
   "cell_type": "code",
   "execution_count": 51,
   "id": "e90a0502",
   "metadata": {},
   "outputs": [],
   "source": [
    "def merge_sort(arr):\n",
    "    \"\"\"\n",
    "    Funciton which calculates count of invertions and sorts an array\n",
    "    \"\"\"\n",
    "    # Helper function to merge two sorted arrays and count inversions\n",
    "    def merge(left, right):\n",
    "        merged = []\n",
    "        count = 0\n",
    "        i = j = 0\n",
    "\n",
    "        while i < len(left) and j < len(right):\n",
    "            if left[i] <= right[j]:\n",
    "                merged.append(left[i])\n",
    "                i += 1\n",
    "            else:\n",
    "                # Element from the right array is smaller, so it's an inversion\n",
    "                merged.append(right[j])\n",
    "                count += len(left) - i\n",
    "                j += 1\n",
    "\n",
    "        merged.extend(left[i:])\n",
    "        merged.extend(right[j:])\n",
    "        \n",
    "        return merged, count\n",
    "\n",
    "    if len(arr) <= 1:\n",
    "        return arr, 0\n",
    "\n",
    "    mid = len(arr) // 2\n",
    "    left, inv_left = merge_sort(arr[:mid])\n",
    "    right, inv_right = merge_sort(arr[mid:])\n",
    "\n",
    "    merged, count = merge(left, right)\n",
    "\n",
    "    return merged, count + inv_left + inv_right"
   ]
  },
  {
   "cell_type": "code",
   "execution_count": 52,
   "id": "50436b3f",
   "metadata": {},
   "outputs": [
    {
     "name": "stdout",
     "output_type": "stream",
     "text": [
      "Число инверсий =  525\n"
     ]
    }
   ],
   "source": [
    "errors_sorted, inversion_count = merge_sort(errors)\n",
    "print(\"Число инверсий = \", inversion_count)"
   ]
  },
  {
   "cell_type": "code",
   "execution_count": 53,
   "id": "aa011c5a",
   "metadata": {},
   "outputs": [
    {
     "name": "stdout",
     "output_type": "stream",
     "text": [
      "delta: -1.48\n",
      "p-value: 0.138\n",
      "Нет оснований отвергать гипотезу о случайности выборки\n"
     ]
    }
   ],
   "source": [
    "delta = (inversion_count - n * (n - 1) / 4) * np.sqrt(36 / n**3)\n",
    "print(\"delta:\", np.round(delta, 2))\n",
    "\n",
    "p_value = 2 * (1 - norm.cdf(np.abs(delta), 0, 1))\n",
    "print(\"p-value:\", np.round(p_value, 3))\n",
    "if (p_value < alpha):\n",
    "    print(\"Выборка не случайная\")\n",
    "else:\n",
    "    print(\"Нет оснований отвергать гипотезу о случайности выборки\")"
   ]
  },
  {
   "cell_type": "markdown",
   "id": "538e3d00",
   "metadata": {},
   "source": [
    "## f) Проверка предположения о нормальности распределения ошибок"
   ]
  },
  {
   "cell_type": "code",
   "execution_count": 54,
   "id": "33de75a7",
   "metadata": {},
   "outputs": [],
   "source": [
    "# Number of bootstrap samples\n",
    "n_samples = 10000"
   ]
  },
  {
   "cell_type": "code",
   "execution_count": 55,
   "id": "dba69b35",
   "metadata": {},
   "outputs": [],
   "source": [
    "# Calculate the empirical function (CDF)\n",
    "F_n = np.arange(1, n + 1) / n\n",
    "\n",
    "# Plot the empirical function\n",
    "# plt.step(errors_sorted, F_n, where='post')\n",
    "# plt.title('Empirical Function of the Distribution')\n",
    "# plt.xlabel('Data')\n",
    "# plt.ylabel('Probability')\n",
    "# plt.show()"
   ]
  },
  {
   "cell_type": "code",
   "execution_count": 56,
   "id": "cfe9839e",
   "metadata": {},
   "outputs": [],
   "source": [
    "# ecdf = sm.distributions.ECDF(errors)\n",
    "\n",
    "# Create plot points for the ECDF\n",
    "# x = np.linspace(min(errors), max(errors))\n",
    "# F_n_ecdf = ecdf(x)\n",
    "\n",
    "# Plot the empirical function\n",
    "# plt.step(errors_sorted, F_n_ecdf, where='post')\n",
    "# plt.title('Empirical Function of the Distribution')\n",
    "# plt.xlabel('Data')\n",
    "# plt.ylabel('Probability')\n",
    "# plt.show()"
   ]
  },
  {
   "cell_type": "code",
   "execution_count": 57,
   "id": "920c168e",
   "metadata": {},
   "outputs": [
    {
     "name": "stdout",
     "output_type": "stream",
     "text": [
      "Средне-арифметическое значение бутстрапа: 5.09\n",
      "Значение дельта с волной: 4.23\n"
     ]
    }
   ],
   "source": [
    "# Generate bootstrap samples and calculate the delta for each sample\n",
    "def delta(sample):    \n",
    "    global F_n, n\n",
    "    delta = np.sqrt(n) * np.max(np.abs(F_n - norm.cdf(sample, 0, np.var(sample))))\n",
    "    return delta\n",
    "\n",
    "\n",
    "deltas = np.array([delta(np.random.choice(errors, size=n, replace=True)) for _ in range(n_samples)])\n",
    "print(\"Средне-арифметическое значение бутстрапа:\", np.round(deltas.mean(), 2))\n",
    "\n",
    "wave_delta = delta(errors)\n",
    "print(\"Значение дельта с волной:\", np.round(wave_delta, 2))"
   ]
  },
  {
   "cell_type": "code",
   "execution_count": 58,
   "id": "255c8000",
   "metadata": {},
   "outputs": [
    {
     "name": "stdout",
     "output_type": "stream",
     "text": [
      "p-value: 0.96\n",
      "Нет оснований отвергать гипотезу о том, что ошибки имеют нормального распределения\n"
     ]
    }
   ],
   "source": [
    "p_value = np.sum(deltas >= wave_delta) / n_samples\n",
    "print(\"p-value:\", np.round(p_value, 2))\n",
    "if (p_value < alpha):\n",
    "    print(\"Ошибки не имеют нормального распределения\")\n",
    "else:\n",
    "    print(\"Нет оснований отвергать гипотезу о том, что ошибки имеют нормального распределения\")"
   ]
  },
  {
   "cell_type": "markdown",
   "id": "375c15da",
   "metadata": {},
   "source": [
    "## g) Исследование регресии на выбросы"
   ]
  },
  {
   "cell_type": "code",
   "execution_count": 59,
   "id": "b25b3b73",
   "metadata": {},
   "outputs": [
    {
     "name": "stdout",
     "output_type": "stream",
     "text": [
      "Число выбросов: 1\n",
      "Выбросы: [-6.81]\n"
     ]
    },
    {
     "data": {
      "image/png": "[encoded data removed]",
      "text/plain": [
       "<Figure size 640x480 with 1 Axes>"
      ]
     },
     "metadata": {},
     "output_type": "display_data"
    }
   ],
   "source": [
    "# Create a figure and axis\n",
    "fig, ax = plt.subplots()\n",
    "\n",
    "# Create a boxplot with the random data\n",
    "boxplot = ax.boxplot(errors, vert=False)\n",
    "\n",
    "outliers = boxplot['fliers'][0].get_data()[0]\n",
    "\n",
    "# Count the outliers\n",
    "outliers_count = len(outliers)\n",
    "print(\"Число выбросов:\", outliers_count)\n",
    "print(\"Выбросы:\", np.round(outliers, 2))\n",
    "\n",
    "# Set labels and title\n",
    "ax.set_xlabel('Значения')\n",
    "ax.set_title('Boxplot ошибок')\n",
    "\n",
    "# Show the plot\n",
    "plt.show()"
   ]
  },
  {
   "cell_type": "markdown",
   "id": "ae023664",
   "metadata": {},
   "source": [
    "## h) Кросс-проверка регрессии"
   ]
  },
  {
   "cell_type": "code",
   "execution_count": 60,
   "id": "42375adf",
   "metadata": {},
   "outputs": [
    {
     "name": "stdout",
     "output_type": "stream",
     "text": [
      "R2-CV: 0.43\n",
      "Неудачная модель\n"
     ]
    }
   ],
   "source": [
    "from sklearn.model_selection import KFold\n",
    "import numpy as np\n",
    "\n",
    "\n",
    "# Initialize KFold with the number of splits (k) you want\n",
    "kf = KFold(n_splits=n, shuffle=False)\n",
    "\n",
    "RSS_CV = []\n",
    "# Iterate over the splits to get training and validation indices\n",
    "for train_index, val_index in kf.split(psi):\n",
    "    X_train, X_val = psi[train_index], psi[val_index]\n",
    "    y_train, y_val = etta[train_index], etta[val_index]\n",
    "    \n",
    "    F = X_train.T @ X_train\n",
    "    F_inv = np.linalg.inv(F)\n",
    "    b = F_inv @ X_train.T @ y_train\n",
    "\n",
    "    RSS_CV.append(np.sum((b @ X_val[0] - y_val) ** 2))\n",
    "    \n",
    "RSS_CV = np.array(RSS_CV)\n",
    "CVSS = np.sum(RSS_CV)\n",
    "R2_CV = (TSS - CVSS) / TSS\n",
    "\n",
    "print(\"R2-CV:\", np.round(R2_CV, 2))\n",
    "if R2_CV > 0.5:\n",
    "    print(\"Удачная модель\")\n",
    "else:\n",
    "    print(\"Неудачная модель\")\n"
   ]
  },
  {
   "cell_type": "markdown",
   "id": "7cc6b0ac",
   "metadata": {},
   "source": [
    "## i) Проверка адекватности регрессии, сделав 5 повторных измерений в одной точке"
   ]
  },
  {
   "cell_type": "code",
   "execution_count": 61,
   "id": "ee7f776a",
   "metadata": {},
   "outputs": [],
   "source": [
    "k = 5\n",
    "X = np.array([1, 1, 0, 1, -1, 0])\n",
    "y = np.array([np.random.normal(genuine_coefs @ X, 1.5 ** 2) for _ in range(k)])"
   ]
  },
  {
   "cell_type": "code",
   "execution_count": 62,
   "id": "63716fef",
   "metadata": {},
   "outputs": [
    {
     "name": "stdout",
     "output_type": "stream",
     "text": [
      "Delta: 1.89\n",
      "p-value: 0.28\n",
      "Нет основания отвергать гипотезу -> модель адекватная\n"
     ]
    }
   ],
   "source": [
    "S2 = 1 / (k - 1) * np.sum((y - y.mean()) ** 2)\n",
    "delta = RSS / (n - p) / S2\n",
    "print(\"Delta:\", np.round(delta, 2))\n",
    "\n",
    "p_value = f.cdf(-np.abs(delta), n - p, k - 1) + (1 - f.cdf(np.abs(delta), n - p, k - 1))\n",
    "print(\"p-value:\", np.round(p_value, 2))\n",
    "if (p_value < alpha):\n",
    "    print(\"Модель не адекватная\")\n",
    "else:\n",
    "    print(\"Нет основания отвергать гипотезу -> модель адекватная\")"
   ]
  },
  {
   "cell_type": "markdown",
   "id": "7bfd126d",
   "metadata": {},
   "source": [
    "## Удаление переменной, соответствующей наименее значимому коэффициенту и повторение пунктов b и c, сравнения уравнения регрессии"
   ]
  },
  {
   "cell_type": "code",
   "execution_count": 63,
   "id": "b17adfba",
   "metadata": {},
   "outputs": [
    {
     "name": "stdout",
     "output_type": "stream",
     "text": [
      "Наименее значимый коэффициент - 2\n"
     ]
    }
   ],
   "source": [
    "unsignificant_coef = np.argmin(deltas_sign)\n",
    "print(\"Наименее значимый коэффициент -\", unsignificant_coef)"
   ]
  },
  {
   "cell_type": "code",
   "execution_count": 64,
   "id": "14c19040",
   "metadata": {},
   "outputs": [],
   "source": [
    "data_new = np.delete(data, unsignificant_coef, axis=0)\n",
    "genuine_coefs_new = np.delete(genuine_coefs, unsignificant_coef)\n",
    "etta_new = np.random.normal(genuine_coefs_new @ data_new, 1.5 ** 2)\n",
    "psi_new = data_new.T"
   ]
  },
  {
   "cell_type": "code",
   "execution_count": 65,
   "id": "3a0329e3",
   "metadata": {},
   "outputs": [
    {
     "data": {
      "text/html": [
       "<div>\n",
       "<style scoped>\n",
       "    .dataframe tbody tr th:only-of-type {\n",
       "        vertical-align: middle;\n",
       "    }\n",
       "\n",
       "    .dataframe tbody tr th {\n",
       "        vertical-align: top;\n",
       "    }\n",
       "\n",
       "    .dataframe thead th {\n",
       "        text-align: right;\n",
       "    }\n",
       "</style>\n",
       "<table border=\"1\" class=\"dataframe\">\n",
       "  <thead>\n",
       "    <tr style=\"text-align: right;\">\n",
       "      <th></th>\n",
       "      <th>Полученные новые коэффициенты</th>\n",
       "      <th>Данные коэффициенты</th>\n",
       "    </tr>\n",
       "  </thead>\n",
       "  <tbody>\n",
       "    <tr>\n",
       "      <th>0</th>\n",
       "      <td>2.0</td>\n",
       "      <td>2</td>\n",
       "    </tr>\n",
       "    <tr>\n",
       "      <th>1</th>\n",
       "      <td>1.8</td>\n",
       "      <td>3</td>\n",
       "    </tr>\n",
       "    <tr>\n",
       "      <th>2</th>\n",
       "      <td>0.9</td>\n",
       "      <td>1</td>\n",
       "    </tr>\n",
       "    <tr>\n",
       "      <th>3</th>\n",
       "      <td>0.4</td>\n",
       "      <td>1</td>\n",
       "    </tr>\n",
       "    <tr>\n",
       "      <th>4</th>\n",
       "      <td>-1.0</td>\n",
       "      <td>-1</td>\n",
       "    </tr>\n",
       "  </tbody>\n",
       "</table>\n",
       "</div>"
      ],
      "text/plain": [
       "   Полученные новые коэффициенты  Данные коэффициенты\n",
       "0                            2.0                    2\n",
       "1                            1.8                    3\n",
       "2                            0.9                    1\n",
       "3                            0.4                    1\n",
       "4                           -1.0                   -1"
      ]
     },
     "execution_count": 65,
     "metadata": {},
     "output_type": "execute_result"
    }
   ],
   "source": [
    "F_new = psi_new.T @ psi_new\n",
    "F_inv_new = np.linalg.inv(F_new)\n",
    "b_new = F_inv_new @ psi_new.T @ etta_new\n",
    "\n",
    "# Create index for the coefficients\n",
    "index = np.arange(len(b_new))\n",
    "\n",
    "# Define width of bar\n",
    "bar_width = 0.35\n",
    "\n",
    "# Create bar plot for coefficients\n",
    "# plt.figure(figsize=(10, 6))\n",
    "# plt.bar(index, b_new, bar_width, label='My Coefficients', color='b')\n",
    "# plt.bar(index + bar_width, np.delete(genuine_coefs, unsignificant_coef), bar_width, label='Genuine Coefficients', color='r')\n",
    "\n",
    "# plt.xlabel('Coefficient Index')\n",
    "# plt.ylabel('Coefficient Value')\n",
    "# plt.title('Comparison of My Coefficients and Genuine Coefficients')\n",
    "# plt.xticks(index + bar_width, range(len(b_new)))\n",
    "# plt.legend()\n",
    "\n",
    "# plt.show()\n",
    "\n",
    "pd_df = pd.DataFrame({'Полученные новые коэффициенты':  np.round(b_new, 1), 'Данные коэффициенты': np.delete(genuine_coefs, unsignificant_coef)})\n",
    "pd_df"
   ]
  },
  {
   "cell_type": "code",
   "execution_count": 66,
   "id": "c3a48237",
   "metadata": {},
   "outputs": [],
   "source": [
    "TSS_new = np.sum((etta_new - np.mean(etta_new)) ** 2)\n",
    "# print(\"New TSS:\", np.round(TSS_new, 2))\n",
    "\n",
    "etta_pred_new = b_new @ psi_new.T\n",
    "RSS_new = np.sum((etta_pred_new - etta_new) ** 2)\n",
    "# print(\"New RSS:\", np.round(RSS_new, 2))"
   ]
  },
  {
   "cell_type": "code",
   "execution_count": 67,
   "id": "4a9b44cf",
   "metadata": {},
   "outputs": [
    {
     "name": "stdout",
     "output_type": "stream",
     "text": [
      "New R2: 0.3391\n",
      "R2 0.5507\n",
      "Объясняющая способность новой модели хуже\n"
     ]
    }
   ],
   "source": [
    "R2_new = (TSS_new - RSS_new) / TSS_new\n",
    "print(\"New R2:\", np.round(R2_new, 4))\n",
    "print(\"R2\", np.round(R2, 4))\n",
    "\n",
    "if R2_new >= R2:\n",
    "    print(\"Объясняющая способность новой модели лучше\")\n",
    "else:\n",
    "    print(\"Объясняющая способность новой модели хуже\")"
   ]
  },
  {
   "cell_type": "code",
   "execution_count": 73,
   "id": "c8919a17",
   "metadata": {},
   "outputs": [
    {
     "name": "stdout",
     "output_type": "stream",
     "text": [
      "Delta: 662.81\n",
      "p-value: 1.1102230246251565e-16\n",
      "Короткая модель плохая\n"
     ]
    }
   ],
   "source": [
    "l = p - 1\n",
    "#delta = R2 / (1 - R2) * (n - p) / (p - l)\n",
    "delta = (RSS_new - RSS) / RSS * (n - p) / (p - l)\n",
    "print(\"Delta:\", np.round(delta, 2))\n",
    "\n",
    "p_value = f.cdf(-np.abs(delta), p - l, n - p) + (1 - f.cdf(np.abs(delta), p - l, n - p))\n",
    "print(\"p-value:\", p_value)\n",
    "if (p_value < alpha):\n",
    "    print(\"Короткая модель плохая\")\n",
    "else:\n",
    "    print(\"Нет оснований отвергать -> Короткая модель хорошая\")"
   ]
  },
  {
   "cell_type": "markdown",
   "id": "a1543a3d",
   "metadata": {},
   "source": [
    "## Сравнение уравнения регрессии бутстрапом"
   ]
  },
  {
   "cell_type": "code",
   "execution_count": null,
   "id": "0cd517ae",
   "metadata": {},
   "outputs": [],
   "source": []
  },
  {
   "cell_type": "code",
   "execution_count": null,
   "id": "769d6e7b-6428-457e-84c7-bb7da1d2148e",
   "metadata": {},
   "outputs": [],
   "source": []
  }
 ],
 "metadata": {
  "kernelspec": {
   "display_name": "Python 3 (ipykernel)",
   "language": "python",
   "name": "python3"
  },
  "language_info": {
   "codemirror_mode": {
    "name": "ipython",
    "version": 3
   },
   "file_extension": ".py",
   "mimetype": "text/x-python",
   "name": "python",
   "nbconvert_exporter": "python",
   "pygments_lexer": "ipython3",
   "version": "3.10.12"
  }
 },
 "nbformat": 4,
 "nbformat_minor": 5
}
