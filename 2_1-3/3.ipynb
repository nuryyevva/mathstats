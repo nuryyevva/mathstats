{
 "cells": [
  {
   "cell_type": "code",
   "execution_count": 1,
   "id": "f5737008",
   "metadata": {},
   "outputs": [],
   "source": [
    "import numpy as np\n",
    "from sklearn import linear_model\n",
    "import pandas as pd\n",
    "import matplotlib.pyplot as plt\n",
    "\n",
    "from scipy.optimize import minimize\n",
    "\n",
    "from sklearn.linear_model import RidgeCV, Ridge\n",
    "from sklearn.model_selection import GridSearchCV\n",
    "from sklearn.model_selection import cross_val_score\n",
    "from sklearn.model_selection import KFold"
   ]
  },
  {
   "cell_type": "code",
   "execution_count": 2,
   "id": "3690c1c4",
   "metadata": {},
   "outputs": [],
   "source": [
    "alpha = 0.05\n",
    "p = 2"
   ]
  },
  {
   "cell_type": "code",
   "execution_count": 3,
   "id": "dda89932",
   "metadata": {},
   "outputs": [
    {
     "data": {
      "text/html": [
       "<div>\n",
       "<style scoped>\n",
       "    .dataframe tbody tr th:only-of-type {\n",
       "        vertical-align: middle;\n",
       "    }\n",
       "\n",
       "    .dataframe tbody tr th {\n",
       "        vertical-align: top;\n",
       "    }\n",
       "\n",
       "    .dataframe thead th {\n",
       "        text-align: right;\n",
       "    }\n",
       "</style>\n",
       "<table border=\"1\" class=\"dataframe\">\n",
       "  <thead>\n",
       "    <tr style=\"text-align: right;\">\n",
       "      <th></th>\n",
       "      <th>ξ</th>\n",
       "      <th>η</th>\n",
       "      <th>ω</th>\n",
       "    </tr>\n",
       "  </thead>\n",
       "  <tbody>\n",
       "    <tr>\n",
       "      <th>0</th>\n",
       "      <td>1</td>\n",
       "      <td>0</td>\n",
       "      <td>1</td>\n",
       "    </tr>\n",
       "    <tr>\n",
       "      <th>1</th>\n",
       "      <td>0</td>\n",
       "      <td>1</td>\n",
       "      <td>5</td>\n",
       "    </tr>\n",
       "    <tr>\n",
       "      <th>2</th>\n",
       "      <td>1</td>\n",
       "      <td>1</td>\n",
       "      <td>2</td>\n",
       "    </tr>\n",
       "  </tbody>\n",
       "</table>\n",
       "</div>"
      ],
      "text/plain": [
       "   ξ  η  ω\n",
       "0  1  0  1\n",
       "1  0  1  5\n",
       "2  1  1  2"
      ]
     },
     "execution_count": 3,
     "metadata": {},
     "output_type": "execute_result"
    }
   ],
   "source": [
    "csi = np.array([1, 0, 1])\n",
    "etta = np.array([0, 1, 1])\n",
    "omega = np.array([1, 5, 2])\n",
    "data_table = pd.DataFrame({r'ξ': csi, r'η': etta, r'ω': omega})\n",
    "data_table"
   ]
  },
  {
   "cell_type": "code",
   "execution_count": 4,
   "id": "0a61588f",
   "metadata": {},
   "outputs": [],
   "source": [
    "Y = omega\n",
    "n = np.size(Y)\n",
    "\n",
    "X = np.stack((csi, etta), axis = 1)"
   ]
  },
  {
   "cell_type": "markdown",
   "id": "e5d567b0",
   "metadata": {},
   "source": [
    "# Уравнение линейной регрессии"
   ]
  },
  {
   "cell_type": "code",
   "execution_count": 6,
   "id": "fe6dab08",
   "metadata": {},
   "outputs": [
    {
     "name": "stdout",
     "output_type": "stream",
     "text": [
      "Уравнение: ω = -0.33*ξ + 3.67*η\n"
     ]
    }
   ],
   "source": [
    "F = X.T @ X\n",
    "F_inv = np.linalg.inv(F)\n",
    "\n",
    "b = F_inv @ X.T @ Y\n",
    "\n",
    "model = linear_model.LinearRegression(fit_intercept=False)\n",
    "model.fit(X, Y)\n",
    "\n",
    "print(f\"Уравнение: ω = {np.round(b[0], 2)}*ξ + {np.round(b[1], 2)}*η\")\n",
    "\n",
    "# Create a pandas DataFrame to display the coefficients\n",
    "# coefficients_df = pd.DataFrame({'My Coefficients': np.round(b, 2), 'Sklearn coefficients': np.round(model.coef_, 2)})\n",
    "# coefficients_df"
   ]
  },
  {
   "cell_type": "code",
   "execution_count": 53,
   "id": "975875d7",
   "metadata": {},
   "outputs": [],
   "source": [
    "def line_equation(x1, x2):\n",
    "    global b\n",
    "    return b[0] * x1 + b[1] * x2\n",
    "\n",
    "\n",
    "# Create the figure and the 3D axes\n",
    "# fig = plt.figure(figsize=(10, 6))\n",
    "# ax = fig.add_subplot(111, projection='3d')\n",
    "\n",
    "# # Plot the two points\n",
    "# ax.scatter(X[:, 0], X[:, 1], y, c='r', marker='o')\n",
    "\n",
    "# # Plot the line connecting the two points\n",
    "# x1_coord = np.linspace(-10, 10, 100)\n",
    "# x2_coord = np.linspace(-10, 10, 100)\n",
    "# ax.plot(x1_coord, x2_coord, line_equation(x1, x2), c='g')\n",
    "\n",
    "# # Set the axis labels\n",
    "# ax.set_xlabel('X')\n",
    "# ax.set_ylabel('Y')\n",
    "# ax.set_zlabel('Z')\n",
    "\n",
    "# # Show the plot\n",
    "# plt.show()"
   ]
  },
  {
   "cell_type": "markdown",
   "id": "c3608344",
   "metadata": {},
   "source": [
    "#  Уравнение Ridge регрессии"
   ]
  },
  {
   "cell_type": "code",
   "execution_count": 67,
   "id": "554906ac",
   "metadata": {},
   "outputs": [],
   "source": [
    "lambds = np.linspace(0, 10, 1000)"
   ]
  },
  {
   "cell_type": "code",
   "execution_count": 68,
   "id": "49059d16",
   "metadata": {},
   "outputs": [],
   "source": [
    "kf = KFold(n_splits=n, shuffle=False)\n",
    "def CVSS_function_ridge(lambd):\n",
    "    def lagrange_function(x):\n",
    "        e = Y_train - X_train @ x\n",
    "        L = (e.T @ e) + lambd * (np.sum(x ** 2))\n",
    "        return L\n",
    "        \n",
    "    RSS_CV = []\n",
    "    for train_index, val_index in kf.split(X):\n",
    "        X_train, X_val = X[train_index], X[val_index]\n",
    "        Y_train, Y_val = Y[train_index], Y[val_index]\n",
    "        \n",
    "        F = X_train.T @ X_train\n",
    "        F_inv = np.linalg.inv(F)\n",
    "        b = F_inv @ X_train.T @ Y_train\n",
    "\n",
    "        # Минимизируем функцию Лагранжа\n",
    "        x_0 = b\n",
    "        result = minimize(lagrange_function, x_0, method='Nelder-Mead')\n",
    "        beta_wave = result.x\n",
    "\n",
    "        RSS_CV.append(np.sum((beta_wave @ X_val[0] - Y_val) ** 2))\n",
    "        \n",
    "    RSS_CV = np.array(RSS_CV)\n",
    "    CVSS = np.sum(RSS_CV)\n",
    "    return CVSS\n",
    "\n",
    "lambda_0 = 0\n",
    "result_ridge = minimize(CVSS_function_ridge, lambda_0, method='Nelder-Mead').x\n",
    "CVSSs = np.array([CVSS_function_ridge(x_i) for x_i in lambds])"
   ]
  },
  {
   "cell_type": "code",
   "execution_count": 69,
   "id": "f6d98e91",
   "metadata": {},
   "outputs": [
    {
     "name": "stdout",
     "output_type": "stream",
     "text": [
      "lambda_min = 1.51\n"
     ]
    },
    {
     "data": {
      "image/png": "[encoded data removed]",
      "text/plain": [
       "<Figure size 640x480 with 1 Axes>"
      ]
     },
     "metadata": {},
     "output_type": "display_data"
    }
   ],
   "source": [
    "plt.plot(lambds, CVSSs)\n",
    "print(f'lambda_min = {np.round(result_ridge[0], 2)}')\n",
    "# print(f'CVSS_min = {np.round(CVSS_function_ridge(result_ridge), 2)}')"
   ]
  },
  {
   "cell_type": "code",
   "execution_count": 70,
   "id": "0e467ca2",
   "metadata": {},
   "outputs": [
    {
     "name": "stdout",
     "output_type": "stream",
     "text": [
      "Уравнение: ω = 0.31ξ + 1.9η\n"
     ]
    }
   ],
   "source": [
    "def lagrange_function_beta(x):\n",
    "        e = Y - X @ x\n",
    "        L = (e.T @ e) + result_ridge[0] * (np.sum(x ** 2))\n",
    "        return L\n",
    "\n",
    "x_0 = b\n",
    "result_beta = minimize(lagrange_function_beta, x_0, method='Nelder-Mead')\n",
    "result_beta = result_beta.x\n",
    "\n",
    "print(f\"Уравнение: ω = {np.round(result_beta[0], 2)}ξ + {np.round(result_beta[1], 2)}η\")\n",
    "\n",
    "\n",
    "# model_ridge = linear_model.Ridge(fit_intercept=False)\n",
    "# model_ridge.fit(X, Y)\n",
    "\n",
    "\n",
    "# # Create a pandas DataFrame to display the coefficients\n",
    "# coefficients_df = pd.DataFrame({'My Coefficients': np.round(result_beta, 2), 'Sklearn coefficients': np.round(model_ridge.coef_, 2)})\n",
    "# coefficients_df"
   ]
  },
  {
   "cell_type": "markdown",
   "id": "1bb47fbb",
   "metadata": {},
   "source": [
    "# Уравнение Lasso регрессии"
   ]
  },
  {
   "cell_type": "code",
   "execution_count": 71,
   "id": "ac666f21",
   "metadata": {},
   "outputs": [],
   "source": [
    "kf = KFold(n_splits=n, shuffle=False)\n",
    "def CVSS_function_lasso(lambd):\n",
    "    def lagrange_function(x):\n",
    "        e = Y_train - X_train @ x\n",
    "        L = (e.T @ e) + lambd * (np.sum(np.abs(x)))\n",
    "        return L\n",
    "        \n",
    "    RSS_CV = []\n",
    "    for train_index, val_index in kf.split(X):\n",
    "        X_train, X_val = X[train_index], X[val_index]\n",
    "        Y_train, Y_val = Y[train_index], Y[val_index]\n",
    "        \n",
    "        F = X_train.T @ X_train\n",
    "        F_inv = np.linalg.inv(F)\n",
    "        b = F_inv @ X_train.T @ Y_train\n",
    "\n",
    "        # Минимизируем функцию Лагранжа\n",
    "        x_0 = b\n",
    "        result = minimize(lagrange_function, x_0, method='Nelder-Mead')\n",
    "        beta_wave = result.x\n",
    "\n",
    "        RSS_CV.append(np.sum((beta_wave @ X_val[0] - Y_val) ** 2))\n",
    "        \n",
    "    RSS_CV = np.array(RSS_CV)\n",
    "    CVSS = np.sum(RSS_CV)\n",
    "    return CVSS\n",
    "\n",
    "lambda_0 = 0\n",
    "result_lasso = minimize(CVSS_function_lasso, lambda_0, method='Nelder-Mead').x\n",
    "CVSSs = np.array([CVSS_function_lasso(x_i) for x_i in lambds])"
   ]
  },
  {
   "cell_type": "code",
   "execution_count": 72,
   "id": "0123ab88",
   "metadata": {},
   "outputs": [
    {
     "name": "stdout",
     "output_type": "stream",
     "text": [
      "lambda_min = 6.0\n"
     ]
    },
    {
     "data": {
      "image/png": "[encoded data removed]",
      "text/plain": [
       "<Figure size 640x480 with 1 Axes>"
      ]
     },
     "metadata": {},
     "output_type": "display_data"
    }
   ],
   "source": [
    "plt.plot(lambds, CVSSs)\n",
    "print(f'lambda_min = {np.round(result_lasso[0], 2)}')\n",
    "# print(f'CVSS_min = {np.round(CVSS_function_lasso(result_lasso), 2)}')"
   ]
  },
  {
   "cell_type": "code",
   "execution_count": 73,
   "id": "ce2f534a",
   "metadata": {},
   "outputs": [
    {
     "name": "stdout",
     "output_type": "stream",
     "text": [
      "Уравнение: ω = -0.0ξ + 2.0η\n"
     ]
    }
   ],
   "source": [
    "def lagrange_function_beta(x):\n",
    "        e = Y - X @ x\n",
    "        L = (e.T @ e) + result_lasso[0] * (np.sum(np.abs(x)))\n",
    "        return L\n",
    "\n",
    "x_0 = b\n",
    "result_beta = minimize(lagrange_function_beta, x_0, method='Nelder-Mead')\n",
    "result_beta = result_beta.x\n",
    "\n",
    "print(f\"Уравнение: ω = {np.round(result_beta[0], 2)}ξ + {np.round(result_beta[1], 2)}η\")\n",
    "\n",
    "\n",
    "# model_lasso = linear_model.Lasso(fit_intercept=False)\n",
    "# model_lasso.fit(X, Y)\n",
    "\n",
    "\n",
    "# # Create a pandas DataFrame to display the coefficients\n",
    "# coefficients_df = pd.DataFrame({'My Coefficients': np.round(result_beta, 2), 'Sklearn coefficients': np.round(model_lasso.coef_, 2)})\n",
    "# coefficients_df"
   ]
  },
  {
   "cell_type": "code",
   "execution_count": null,
   "id": "cbbbcee1-ff9a-456d-994c-4180af5b0cc4",
   "metadata": {},
   "outputs": [],
   "source": []
  }
 ],
 "metadata": {
  "kernelspec": {
   "display_name": "Python 3 (ipykernel)",
   "language": "python",
   "name": "python3"
  },
  "language_info": {
   "codemirror_mode": {
    "name": "ipython",
    "version": 3
   },
   "file_extension": ".py",
   "mimetype": "text/x-python",
   "name": "python",
   "nbconvert_exporter": "python",
   "pygments_lexer": "ipython3",
   "version": "3.10.12"
  }
 },
 "nbformat": 4,
 "nbformat_minor": 5
}
